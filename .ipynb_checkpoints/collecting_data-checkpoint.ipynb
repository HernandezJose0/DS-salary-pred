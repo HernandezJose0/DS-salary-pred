{
 "cells": [
  {
   "cell_type": "markdown",
   "id": "845562c6-6a62-4fe9-b30d-c7d5b90adb60",
   "metadata": {},
   "source": [
    "## Collecting the data\n"
   ]
  },
  {
   "cell_type": "code",
   "execution_count": 21,
   "id": "1e753c52-2eb4-4868-af67-6b924e0eec8c",
   "metadata": {},
   "outputs": [],
   "source": [
    "import requests\n",
    "from bs4 import BeautifulSoup as bs\n",
    "import pandas as pd\n",
    "import time"
   ]
  },
  {
   "cell_type": "code",
   "execution_count": 22,
   "id": "e49152eb-7f2d-4a94-a71d-441746434540",
   "metadata": {},
   "outputs": [],
   "source": [
    "def fill_df(key,pages):\n",
    "    df=pd.DataFrame(columns=[\"Title\",\"Company\",\"Company_Rating\",\"Location\",\"Salary\",\"Date\",\"Description\"])\n",
    "    for page in range(0,pages):\n",
    "        url='https://mx.indeed.com/trabajo?q='+key+'&start='+str(page*10)\n",
    "        html=requests.get(url)\n",
    "        soup=bs(html.text,'html5lib')\n",
    "        jobs=soup.find_all(\"div\",\"job_seen_beacon\")\n",
    "        for job in jobs:\n",
    "            try:\n",
    "                title=job.find(\"h2\",\"jobTitle\").text\n",
    "            except:\n",
    "                title=np.nan\n",
    "            try:\n",
    "                company=job.find(\"span\",\"companyName\").text\n",
    "            except:\n",
    "                company=np.nan\n",
    "            try:\n",
    "                rating=job.find(\"span\",\"ratingNumber\").text\n",
    "            except:\n",
    "                rating=np.nan\n",
    "            try:\n",
    "                location=job.find(\"div\",\"companyLocation\").text\n",
    "            except:\n",
    "                location=np.nan\n",
    "            try:\n",
    "                salary=job.find(\"div\",\"salary-snippet\").text\n",
    "            except:\n",
    "                salary=np.nan\n",
    "            try:\n",
    "                date=job.find(\"span\",\"date\").text\n",
    "            except:\n",
    "                date=np.nan\n",
    "            try:\n",
    "                desc=job.find(\"div\",\"job-snippet\").text.strip()\n",
    "            except:\n",
    "                desc=np.nan\n",
    "            df=df.append({\"Title\":title,\"Company\":company,\"Company_Rating\":rating,\"Location\":location,\"Salary\":salary,\n",
    "                       \"Date\":date,\"Description\":desc},ignore_index=True)\n",
    "            sleep(5)\n",
    "    print(df.head())\n",
    "    return df"
   ]
  },
  {
   "cell_type": "code",
   "execution_count": 23,
   "id": "ab0a0c15-421e-4c96-8a99-77a9b58aeb91",
   "metadata": {},
   "outputs": [
    {
     "name": "stdout",
     "output_type": "stream",
     "text": [
      "Empty DataFrame\n",
      "Columns: [Title, Company, Company_Rating, Location, Salary, Date, Description]\n",
      "Index: []\n"
     ]
    },
    {
     "data": {
      "text/html": [
       "<div>\n",
       "<style scoped>\n",
       "    .dataframe tbody tr th:only-of-type {\n",
       "        vertical-align: middle;\n",
       "    }\n",
       "\n",
       "    .dataframe tbody tr th {\n",
       "        vertical-align: top;\n",
       "    }\n",
       "\n",
       "    .dataframe thead th {\n",
       "        text-align: right;\n",
       "    }\n",
       "</style>\n",
       "<table border=\"1\" class=\"dataframe\">\n",
       "  <thead>\n",
       "    <tr style=\"text-align: right;\">\n",
       "      <th></th>\n",
       "      <th>Title</th>\n",
       "      <th>Company</th>\n",
       "      <th>Company_Rating</th>\n",
       "      <th>Location</th>\n",
       "      <th>Salary</th>\n",
       "      <th>Date</th>\n",
       "      <th>Description</th>\n",
       "    </tr>\n",
       "  </thead>\n",
       "  <tbody>\n",
       "  </tbody>\n",
       "</table>\n",
       "</div>"
      ],
      "text/plain": [
       "Empty DataFrame\n",
       "Columns: [Title, Company, Company_Rating, Location, Salary, Date, Description]\n",
       "Index: []"
      ]
     },
     "execution_count": 23,
     "metadata": {},
     "output_type": "execute_result"
    }
   ],
   "source": [
    "fill_df(\"data\",2).tail()"
   ]
  },
  {
   "cell_type": "markdown",
   "id": "ba703b43-1216-431e-9c09-6bf119479d60",
   "metadata": {},
   "source": [
    "## Cleaning the data"
   ]
  },
  {
   "cell_type": "code",
   "execution_count": null,
   "id": "736117f3-914a-44a3-94ee-0ac0b5daba39",
   "metadata": {},
   "outputs": [],
   "source": []
  },
  {
   "cell_type": "code",
   "execution_count": null,
   "id": "658ee27e-2d14-4e17-a027-88b5c2d30a1d",
   "metadata": {},
   "outputs": [],
   "source": []
  }
 ],
 "metadata": {
  "kernelspec": {
   "display_name": "Python 3 (ipykernel)",
   "language": "python",
   "name": "python3"
  },
  "language_info": {
   "codemirror_mode": {
    "name": "ipython",
    "version": 3
   },
   "file_extension": ".py",
   "mimetype": "text/x-python",
   "name": "python",
   "nbconvert_exporter": "python",
   "pygments_lexer": "ipython3",
   "version": "3.9.7"
  }
 },
 "nbformat": 4,
 "nbformat_minor": 5
}
