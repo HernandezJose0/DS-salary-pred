{
 "cells": [
  {
   "cell_type": "code",
   "execution_count": 1,
   "id": "0b6761d9-6883-4d40-89af-37bd1e51c608",
   "metadata": {},
   "outputs": [],
   "source": [
    "import pandas as pd\n",
    "import matplotlib.pyplot as plt\n",
    "import seaborn as sns"
   ]
  },
  {
   "cell_type": "code",
   "execution_count": 9,
   "id": "49abae20-0d70-4d4f-928c-0fb8baaf6238",
   "metadata": {},
   "outputs": [
    {
     "data": {
      "text/html": [
       "<div>\n",
       "<style scoped>\n",
       "    .dataframe tbody tr th:only-of-type {\n",
       "        vertical-align: middle;\n",
       "    }\n",
       "\n",
       "    .dataframe tbody tr th {\n",
       "        vertical-align: top;\n",
       "    }\n",
       "\n",
       "    .dataframe thead th {\n",
       "        text-align: right;\n",
       "    }\n",
       "</style>\n",
       "<table border=\"1\" class=\"dataframe\">\n",
       "  <thead>\n",
       "    <tr style=\"text-align: right;\">\n",
       "      <th></th>\n",
       "      <th>Title</th>\n",
       "      <th>Company</th>\n",
       "      <th>Company_Rating</th>\n",
       "      <th>Location</th>\n",
       "      <th>Salary</th>\n",
       "      <th>Date</th>\n",
       "      <th>Description</th>\n",
       "      <th>Yearly</th>\n",
       "      <th>Hourly</th>\n",
       "      <th>Min_Salary</th>\n",
       "      <th>...</th>\n",
       "      <th>Posted_Date</th>\n",
       "      <th>Python</th>\n",
       "      <th>R_studio</th>\n",
       "      <th>Spark</th>\n",
       "      <th>Excel</th>\n",
       "      <th>SQL</th>\n",
       "      <th>Hadoop</th>\n",
       "      <th>title_cat</th>\n",
       "      <th>level</th>\n",
       "      <th>desc_len</th>\n",
       "    </tr>\n",
       "  </thead>\n",
       "  <tbody>\n",
       "    <tr>\n",
       "      <th>0</th>\n",
       "      <td>Becario Data Science or Tableau</td>\n",
       "      <td>Turing Inteligencia Artificial</td>\n",
       "      <td>NaN</td>\n",
       "      <td>Remoto</td>\n",
       "      <td>$3,000 - $4,500 al mes</td>\n",
       "      <td>Postedhace 7 días</td>\n",
       "      <td>Somos una empresa Consultora de Big Data en Mé...</td>\n",
       "      <td>0</td>\n",
       "      <td>0</td>\n",
       "      <td>3000.0</td>\n",
       "      <td>...</td>\n",
       "      <td>2022-04-29</td>\n",
       "      <td>0</td>\n",
       "      <td>0</td>\n",
       "      <td>0</td>\n",
       "      <td>0</td>\n",
       "      <td>0</td>\n",
       "      <td>0</td>\n",
       "      <td>na</td>\n",
       "      <td>na</td>\n",
       "      <td>160</td>\n",
       "    </tr>\n",
       "    <tr>\n",
       "      <th>1</th>\n",
       "      <td>Auxiliar de Recursos Humanos</td>\n",
       "      <td>Turing Inteligencia Artificial</td>\n",
       "      <td>NaN</td>\n",
       "      <td>Remoto</td>\n",
       "      <td>$5,000 - $8,000 al mes</td>\n",
       "      <td>Postedhace 9 días</td>\n",
       "      <td>Somos una empresa Consultora de Big Data en Mé...</td>\n",
       "      <td>0</td>\n",
       "      <td>0</td>\n",
       "      <td>5000.0</td>\n",
       "      <td>...</td>\n",
       "      <td>2022-04-27</td>\n",
       "      <td>0</td>\n",
       "      <td>0</td>\n",
       "      <td>0</td>\n",
       "      <td>0</td>\n",
       "      <td>0</td>\n",
       "      <td>0</td>\n",
       "      <td>na</td>\n",
       "      <td>na</td>\n",
       "      <td>160</td>\n",
       "    </tr>\n",
       "    <tr>\n",
       "      <th>2</th>\n",
       "      <td>Gerente de TI, Gobierno y Auditorias de TI</td>\n",
       "      <td>Grid professional</td>\n",
       "      <td>NaN</td>\n",
       "      <td>Hybrid remote in Cuajimalpa, CDMX</td>\n",
       "      <td>$50,000 - $60,000 al mes</td>\n",
       "      <td>EmployerActivo hace 3 días</td>\n",
       "      <td>Empresa aseguradora líder nivel internacional ...</td>\n",
       "      <td>0</td>\n",
       "      <td>0</td>\n",
       "      <td>50000.0</td>\n",
       "      <td>...</td>\n",
       "      <td>2022-05-03</td>\n",
       "      <td>0</td>\n",
       "      <td>0</td>\n",
       "      <td>0</td>\n",
       "      <td>0</td>\n",
       "      <td>0</td>\n",
       "      <td>0</td>\n",
       "      <td>na</td>\n",
       "      <td>na</td>\n",
       "      <td>142</td>\n",
       "    </tr>\n",
       "    <tr>\n",
       "      <th>3</th>\n",
       "      <td>Data Analyst</td>\n",
       "      <td>Wise Athena</td>\n",
       "      <td>NaN</td>\n",
       "      <td>Remoto</td>\n",
       "      <td>$20,000 - $28,000 al mes</td>\n",
       "      <td>EmployerActivo hace 3 días</td>\n",
       "      <td>Experience with Python for data processing.\\n ...</td>\n",
       "      <td>0</td>\n",
       "      <td>0</td>\n",
       "      <td>20000.0</td>\n",
       "      <td>...</td>\n",
       "      <td>2022-05-03</td>\n",
       "      <td>1</td>\n",
       "      <td>0</td>\n",
       "      <td>0</td>\n",
       "      <td>0</td>\n",
       "      <td>0</td>\n",
       "      <td>0</td>\n",
       "      <td>analyst</td>\n",
       "      <td>na</td>\n",
       "      <td>160</td>\n",
       "    </tr>\n",
       "    <tr>\n",
       "      <th>4</th>\n",
       "      <td>Auxiliar de marketing Jr.</td>\n",
       "      <td>Turing Inteligencia Artificial</td>\n",
       "      <td>NaN</td>\n",
       "      <td>Remoto</td>\n",
       "      <td>$5,000 - $8,000 al mes</td>\n",
       "      <td>Postedhace 9 días</td>\n",
       "      <td>Somos una empresa Consultora de Big Data en Mé...</td>\n",
       "      <td>0</td>\n",
       "      <td>0</td>\n",
       "      <td>5000.0</td>\n",
       "      <td>...</td>\n",
       "      <td>2022-04-27</td>\n",
       "      <td>0</td>\n",
       "      <td>0</td>\n",
       "      <td>0</td>\n",
       "      <td>0</td>\n",
       "      <td>0</td>\n",
       "      <td>0</td>\n",
       "      <td>na</td>\n",
       "      <td>junior</td>\n",
       "      <td>160</td>\n",
       "    </tr>\n",
       "  </tbody>\n",
       "</table>\n",
       "<p>5 rows × 24 columns</p>\n",
       "</div>"
      ],
      "text/plain": [
       "                                        Title                         Company  \\\n",
       "0             Becario Data Science or Tableau  Turing Inteligencia Artificial   \n",
       "1                Auxiliar de Recursos Humanos  Turing Inteligencia Artificial   \n",
       "2  Gerente de TI, Gobierno y Auditorias de TI               Grid professional   \n",
       "3                                Data Analyst                     Wise Athena   \n",
       "4                   Auxiliar de marketing Jr.  Turing Inteligencia Artificial   \n",
       "\n",
       "   Company_Rating                           Location  \\\n",
       "0             NaN                             Remoto   \n",
       "1             NaN                             Remoto   \n",
       "2             NaN  Hybrid remote in Cuajimalpa, CDMX   \n",
       "3             NaN                             Remoto   \n",
       "4             NaN                             Remoto   \n",
       "\n",
       "                     Salary                        Date  \\\n",
       "0    $3,000 - $4,500 al mes           Postedhace 7 días   \n",
       "1    $5,000 - $8,000 al mes           Postedhace 9 días   \n",
       "2  $50,000 - $60,000 al mes  EmployerActivo hace 3 días   \n",
       "3  $20,000 - $28,000 al mes  EmployerActivo hace 3 días   \n",
       "4    $5,000 - $8,000 al mes           Postedhace 9 días   \n",
       "\n",
       "                                         Description  Yearly  Hourly  \\\n",
       "0  Somos una empresa Consultora de Big Data en Mé...       0       0   \n",
       "1  Somos una empresa Consultora de Big Data en Mé...       0       0   \n",
       "2  Empresa aseguradora líder nivel internacional ...       0       0   \n",
       "3  Experience with Python for data processing.\\n ...       0       0   \n",
       "4  Somos una empresa Consultora de Big Data en Mé...       0       0   \n",
       "\n",
       "   Min_Salary  ...  Posted_Date  Python  R_studio Spark Excel  SQL  Hadoop  \\\n",
       "0      3000.0  ...   2022-04-29       0         0     0     0    0       0   \n",
       "1      5000.0  ...   2022-04-27       0         0     0     0    0       0   \n",
       "2     50000.0  ...   2022-05-03       0         0     0     0    0       0   \n",
       "3     20000.0  ...   2022-05-03       1         0     0     0    0       0   \n",
       "4      5000.0  ...   2022-04-27       0         0     0     0    0       0   \n",
       "\n",
       "   title_cat   level  desc_len  \n",
       "0         na      na       160  \n",
       "1         na      na       160  \n",
       "2         na      na       142  \n",
       "3    analyst      na       160  \n",
       "4         na  junior       160  \n",
       "\n",
       "[5 rows x 24 columns]"
      ]
     },
     "execution_count": 9,
     "metadata": {},
     "output_type": "execute_result"
    }
   ],
   "source": [
    "df=pd.read_csv(\"jobs_cleaned.csv\")\n",
    "df.head()"
   ]
  },
  {
   "cell_type": "code",
   "execution_count": 10,
   "id": "caf81bcd-9ca6-4fb5-9d1d-90d278bd42c0",
   "metadata": {},
   "outputs": [
    {
     "data": {
      "text/html": [
       "<div>\n",
       "<style scoped>\n",
       "    .dataframe tbody tr th:only-of-type {\n",
       "        vertical-align: middle;\n",
       "    }\n",
       "\n",
       "    .dataframe tbody tr th {\n",
       "        vertical-align: top;\n",
       "    }\n",
       "\n",
       "    .dataframe thead th {\n",
       "        text-align: right;\n",
       "    }\n",
       "</style>\n",
       "<table border=\"1\" class=\"dataframe\">\n",
       "  <thead>\n",
       "    <tr style=\"text-align: right;\">\n",
       "      <th></th>\n",
       "      <th>Company_Rating</th>\n",
       "      <th>Yearly</th>\n",
       "      <th>Hourly</th>\n",
       "      <th>Min_Salary</th>\n",
       "      <th>Max_Salary</th>\n",
       "      <th>Avg_Salary</th>\n",
       "      <th>Remote</th>\n",
       "      <th>Python</th>\n",
       "      <th>R_studio</th>\n",
       "      <th>Spark</th>\n",
       "      <th>Excel</th>\n",
       "      <th>SQL</th>\n",
       "      <th>Hadoop</th>\n",
       "      <th>desc_len</th>\n",
       "    </tr>\n",
       "  </thead>\n",
       "  <tbody>\n",
       "    <tr>\n",
       "      <th>count</th>\n",
       "      <td>157.000000</td>\n",
       "      <td>681.000000</td>\n",
       "      <td>681.000000</td>\n",
       "      <td>681.000000</td>\n",
       "      <td>681.000000</td>\n",
       "      <td>681.000000</td>\n",
       "      <td>681.000000</td>\n",
       "      <td>681.000000</td>\n",
       "      <td>681.000000</td>\n",
       "      <td>681.000000</td>\n",
       "      <td>681.000000</td>\n",
       "      <td>681.000000</td>\n",
       "      <td>681.000000</td>\n",
       "      <td>681.000000</td>\n",
       "    </tr>\n",
       "    <tr>\n",
       "      <th>mean</th>\n",
       "      <td>3.732484</td>\n",
       "      <td>0.010279</td>\n",
       "      <td>0.026432</td>\n",
       "      <td>28336.713167</td>\n",
       "      <td>37292.815712</td>\n",
       "      <td>32814.764440</td>\n",
       "      <td>0.286344</td>\n",
       "      <td>0.008811</td>\n",
       "      <td>0.016153</td>\n",
       "      <td>0.001468</td>\n",
       "      <td>0.046990</td>\n",
       "      <td>0.039648</td>\n",
       "      <td>0.007342</td>\n",
       "      <td>150.245228</td>\n",
       "    </tr>\n",
       "    <tr>\n",
       "      <th>std</th>\n",
       "      <td>0.420198</td>\n",
       "      <td>0.100937</td>\n",
       "      <td>0.160533</td>\n",
       "      <td>19999.510328</td>\n",
       "      <td>26611.878641</td>\n",
       "      <td>22818.743885</td>\n",
       "      <td>0.452384</td>\n",
       "      <td>0.093519</td>\n",
       "      <td>0.126155</td>\n",
       "      <td>0.038320</td>\n",
       "      <td>0.211772</td>\n",
       "      <td>0.195273</td>\n",
       "      <td>0.085434</td>\n",
       "      <td>14.574860</td>\n",
       "    </tr>\n",
       "    <tr>\n",
       "      <th>min</th>\n",
       "      <td>2.100000</td>\n",
       "      <td>0.000000</td>\n",
       "      <td>0.000000</td>\n",
       "      <td>1000.000000</td>\n",
       "      <td>1800.000000</td>\n",
       "      <td>1400.000000</td>\n",
       "      <td>0.000000</td>\n",
       "      <td>0.000000</td>\n",
       "      <td>0.000000</td>\n",
       "      <td>0.000000</td>\n",
       "      <td>0.000000</td>\n",
       "      <td>0.000000</td>\n",
       "      <td>0.000000</td>\n",
       "      <td>32.000000</td>\n",
       "    </tr>\n",
       "    <tr>\n",
       "      <th>25%</th>\n",
       "      <td>3.500000</td>\n",
       "      <td>0.000000</td>\n",
       "      <td>0.000000</td>\n",
       "      <td>11000.000000</td>\n",
       "      <td>14000.000000</td>\n",
       "      <td>12000.000000</td>\n",
       "      <td>0.000000</td>\n",
       "      <td>0.000000</td>\n",
       "      <td>0.000000</td>\n",
       "      <td>0.000000</td>\n",
       "      <td>0.000000</td>\n",
       "      <td>0.000000</td>\n",
       "      <td>0.000000</td>\n",
       "      <td>145.000000</td>\n",
       "    </tr>\n",
       "    <tr>\n",
       "      <th>50%</th>\n",
       "      <td>3.800000</td>\n",
       "      <td>0.000000</td>\n",
       "      <td>0.000000</td>\n",
       "      <td>25000.000000</td>\n",
       "      <td>30082.000000</td>\n",
       "      <td>30000.000000</td>\n",
       "      <td>0.000000</td>\n",
       "      <td>0.000000</td>\n",
       "      <td>0.000000</td>\n",
       "      <td>0.000000</td>\n",
       "      <td>0.000000</td>\n",
       "      <td>0.000000</td>\n",
       "      <td>0.000000</td>\n",
       "      <td>155.000000</td>\n",
       "    </tr>\n",
       "    <tr>\n",
       "      <th>75%</th>\n",
       "      <td>3.800000</td>\n",
       "      <td>0.000000</td>\n",
       "      <td>0.000000</td>\n",
       "      <td>40000.000000</td>\n",
       "      <td>60000.000000</td>\n",
       "      <td>50000.000000</td>\n",
       "      <td>1.000000</td>\n",
       "      <td>0.000000</td>\n",
       "      <td>0.000000</td>\n",
       "      <td>0.000000</td>\n",
       "      <td>0.000000</td>\n",
       "      <td>0.000000</td>\n",
       "      <td>0.000000</td>\n",
       "      <td>159.000000</td>\n",
       "    </tr>\n",
       "    <tr>\n",
       "      <th>max</th>\n",
       "      <td>5.000000</td>\n",
       "      <td>1.000000</td>\n",
       "      <td>1.000000</td>\n",
       "      <td>88000.000000</td>\n",
       "      <td>100000.000000</td>\n",
       "      <td>90000.000000</td>\n",
       "      <td>1.000000</td>\n",
       "      <td>1.000000</td>\n",
       "      <td>1.000000</td>\n",
       "      <td>1.000000</td>\n",
       "      <td>1.000000</td>\n",
       "      <td>1.000000</td>\n",
       "      <td>1.000000</td>\n",
       "      <td>163.000000</td>\n",
       "    </tr>\n",
       "  </tbody>\n",
       "</table>\n",
       "</div>"
      ],
      "text/plain": [
       "       Company_Rating      Yearly      Hourly    Min_Salary     Max_Salary  \\\n",
       "count      157.000000  681.000000  681.000000    681.000000     681.000000   \n",
       "mean         3.732484    0.010279    0.026432  28336.713167   37292.815712   \n",
       "std          0.420198    0.100937    0.160533  19999.510328   26611.878641   \n",
       "min          2.100000    0.000000    0.000000   1000.000000    1800.000000   \n",
       "25%          3.500000    0.000000    0.000000  11000.000000   14000.000000   \n",
       "50%          3.800000    0.000000    0.000000  25000.000000   30082.000000   \n",
       "75%          3.800000    0.000000    0.000000  40000.000000   60000.000000   \n",
       "max          5.000000    1.000000    1.000000  88000.000000  100000.000000   \n",
       "\n",
       "         Avg_Salary      Remote      Python    R_studio       Spark  \\\n",
       "count    681.000000  681.000000  681.000000  681.000000  681.000000   \n",
       "mean   32814.764440    0.286344    0.008811    0.016153    0.001468   \n",
       "std    22818.743885    0.452384    0.093519    0.126155    0.038320   \n",
       "min     1400.000000    0.000000    0.000000    0.000000    0.000000   \n",
       "25%    12000.000000    0.000000    0.000000    0.000000    0.000000   \n",
       "50%    30000.000000    0.000000    0.000000    0.000000    0.000000   \n",
       "75%    50000.000000    1.000000    0.000000    0.000000    0.000000   \n",
       "max    90000.000000    1.000000    1.000000    1.000000    1.000000   \n",
       "\n",
       "            Excel         SQL      Hadoop    desc_len  \n",
       "count  681.000000  681.000000  681.000000  681.000000  \n",
       "mean     0.046990    0.039648    0.007342  150.245228  \n",
       "std      0.211772    0.195273    0.085434   14.574860  \n",
       "min      0.000000    0.000000    0.000000   32.000000  \n",
       "25%      0.000000    0.000000    0.000000  145.000000  \n",
       "50%      0.000000    0.000000    0.000000  155.000000  \n",
       "75%      0.000000    0.000000    0.000000  159.000000  \n",
       "max      1.000000    1.000000    1.000000  163.000000  "
      ]
     },
     "execution_count": 10,
     "metadata": {},
     "output_type": "execute_result"
    }
   ],
   "source": [
    "df.describe()"
   ]
  },
  {
   "cell_type": "code",
   "execution_count": 11,
   "id": "4c651d34-f4d3-4f2e-9599-ca81816337f9",
   "metadata": {},
   "outputs": [
    {
     "data": {
      "text/plain": [
       "<AxesSubplot:>"
      ]
     },
     "execution_count": 11,
     "metadata": {},
     "output_type": "execute_result"
    },
    {
     "data": {
      "image/png": "[encoded data removed]",
      "text/plain": [
       "<Figure size 432x288 with 1 Axes>"
      ]
     },
     "metadata": {
      "needs_background": "light"
     },
     "output_type": "display_data"
    }
   ],
   "source": [
    "df.Company_Rating.hist()"
   ]
  },
  {
   "cell_type": "code",
   "execution_count": 12,
   "id": "b0cdb618-376c-49dd-98ff-fc3f5c1b1254",
   "metadata": {},
   "outputs": [
    {
     "data": {
      "text/plain": [
       "<AxesSubplot:>"
      ]
     },
     "execution_count": 12,
     "metadata": {},
     "output_type": "execute_result"
    },
    {
     "data": {
      "image/png": "[encoded data removed]",
      "text/plain": [
       "<Figure size 432x288 with 1 Axes>"
      ]
     },
     "metadata": {
      "needs_background": "light"
     },
     "output_type": "display_data"
    }
   ],
   "source": [
    "df.Avg_Salary.hist()"
   ]
  },
  {
   "cell_type": "code",
   "execution_count": 13,
   "id": "66a9875e-11ea-4eaf-9390-43720c787f3c",
   "metadata": {},
   "outputs": [
    {
     "data": {
      "text/plain": [
       "<AxesSubplot:>"
      ]
     },
     "execution_count": 13,
     "metadata": {},
     "output_type": "execute_result"
    },
    {
     "data": {
      "image/png": "[encoded data removed]",
      "text/plain": [
       "<Figure size 432x288 with 1 Axes>"
      ]
     },
     "metadata": {
      "needs_background": "light"
     },
     "output_type": "display_data"
    }
   ],
   "source": [
    "df.desc_len.hist()"
   ]
  },
  {
   "cell_type": "code",
   "execution_count": 7,
   "id": "68788d41-2272-42f1-8247-7905eaa3b82c",
   "metadata": {},
   "outputs": [
    {
     "data": {
      "text/plain": [
       "<AxesSubplot:>"
      ]
     },
     "execution_count": 7,
     "metadata": {},
     "output_type": "execute_result"
    },
    {
     "data": {
      "image/png": "[encoded data removed]",
      "text/plain": [
       "<Figure size 432x288 with 1 Axes>"
      ]
     },
     "metadata": {
      "needs_background": "light"
     },
     "output_type": "display_data"
    }
   ],
   "source": [
    "df.boxplot(column=\"Avg_Salary\")"
   ]
  },
  {
   "cell_type": "code",
   "execution_count": 8,
   "id": "77ee3ed8-4fb9-4655-95a9-7b4ef7ddfff8",
   "metadata": {},
   "outputs": [
    {
     "data": {
      "text/plain": [
       "<AxesSubplot:>"
      ]
     },
     "execution_count": 8,
     "metadata": {},
     "output_type": "execute_result"
    },
    {
     "data": {
      "image/png": "[encoded data removed]",
      "text/plain": [
       "<Figure size 432x288 with 1 Axes>"
      ]
     },
     "metadata": {
      "needs_background": "light"
     },
     "output_type": "display_data"
    }
   ],
   "source": [
    "df.boxplot(column=\"Company_Rating\")"
   ]
  },
  {
   "cell_type": "code",
   "execution_count": 14,
   "id": "1ed8deb3-c4a9-43bb-b53d-45c6cdc7967b",
   "metadata": {},
   "outputs": [
    {
     "data": {
      "text/plain": [
       "<AxesSubplot:>"
      ]
     },
     "execution_count": 14,
     "metadata": {},
     "output_type": "execute_result"
    },
    {
     "data": {
      "image/png": "[encoded data removed]",
      "text/plain": [
       "<Figure size 432x288 with 1 Axes>"
      ]
     },
     "metadata": {
      "needs_background": "light"
     },
     "output_type": "display_data"
    }
   ],
   "source": [
    "df.boxplot(column=\"desc_len\")"
   ]
  },
  {
   "cell_type": "code",
   "execution_count": null,
   "id": "e42f00de-fad5-41a0-a0f6-6e965d8dc295",
   "metadata": {},
   "outputs": [],
   "source": []
  }
 ],
 "metadata": {
  "kernelspec": {
   "display_name": "Python 3 (ipykernel)",
   "language": "python",
   "name": "python3"
  },
  "language_info": {
   "codemirror_mode": {
    "name": "ipython",
    "version": 3
   },
   "file_extension": ".py",
   "mimetype": "text/x-python",
   "name": "python",
   "nbconvert_exporter": "python",
   "pygments_lexer": "ipython3",
   "version": "3.9.7"
  }
 },
 "nbformat": 4,
 "nbformat_minor": 5
}
